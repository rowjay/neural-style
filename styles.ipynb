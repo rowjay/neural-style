{
 "cells": [
  {
   "cell_type": "code",
   "execution_count": 1,
   "metadata": {
    "collapsed": true
   },
   "outputs": [],
   "source": [
    "# An ipython notebook for Anish Athalye's neural-style"
   ]
  },
  {
   "cell_type": "code",
   "execution_count": 30,
   "metadata": {
    "collapsed": false
   },
   "outputs": [],
   "source": [
    "import neural_style as ns\n",
    "import shlex, subprocess"
   ]
  },
  {
   "cell_type": "code",
   "execution_count": 56,
   "metadata": {
    "collapsed": false
   },
   "outputs": [],
   "source": [
    "cnt = 'images/content/content1.jpg'\n",
    "stl = 'images/styles/s5.jpg'\n",
    "out = 'images/output/output-file-name.jpg'\n",
    "itr = 10\n",
    "stl_wgt = 100\n",
    "cnt_wgt = 20\n",
    "lnr = 30\n",
    "cpi = 5\n",
    "cpo = 'images/output/checkpoints/check%s.jpg'\n",
    "ssi = 8\n",
    "ssp = 'state'"
   ]
  },
  {
   "cell_type": "code",
   "execution_count": 55,
   "metadata": {
    "collapsed": false
   },
   "outputs": [
    {
     "ename": "KeyError",
     "evalue": "'cnt'",
     "output_type": "error",
     "traceback": [
      "\u001b[0;31m---------------------------------------------------------------------------\u001b[0m",
      "\u001b[0;31mKeyError\u001b[0m                                  Traceback (most recent call last)",
      "\u001b[0;32m<ipython-input-55-84eb202712cd>\u001b[0m in \u001b[0;36m<module>\u001b[0;34m()\u001b[0m\n\u001b[0;32m----> 1\u001b[0;31m \u001b[0mprint\u001b[0m\u001b[0;34m(\u001b[0m\u001b[0;34m\"hello {cnt}\"\u001b[0m\u001b[0;34m.\u001b[0m\u001b[0mformat\u001b[0m\u001b[0;34m(\u001b[0m\u001b[0mcnt\u001b[0m\u001b[0;34m)\u001b[0m\u001b[0;34m)\u001b[0m\u001b[0;34m\u001b[0m\u001b[0m\n\u001b[0m",
      "\u001b[0;31mKeyError\u001b[0m: 'cnt'"
     ]
    }
   ],
   "source": [
    "print(\"hello {cnt}\".format(cnt))"
   ]
  },
  {
   "cell_type": "code",
   "execution_count": null,
   "metadata": {
    "collapsed": false
   },
   "outputs": [],
   "source": [
    "# Run it\n",
    "cmd = str(\"python3.5 neural_style.py \"\n",
    "     \"--content {} --styles {} --output {} --iterations {} --style-weight {} --content-weight {} --learning-rate {} --checkpoint-iterations {} --checkpoint-output {} --savestate-iterations {} --savestate-path {}\").format(cnt, stl, out, itr, stl_wgt, cnt_wgt, lnr, cpi, cpo, ssi, ssp)\n",
    "args = shlex.split(cmd)\n",
    "with subprocess.Popen(args, stdout=subprocess.PIPE) as proc:\n",
    "    print(proc.stdout.read())\n",
    "output = p.communicate()"
   ]
  },
  {
   "cell_type": "code",
   "execution_count": 45,
   "metadata": {
    "collapsed": false
   },
   "outputs": [
    {
     "name": "stdout",
     "output_type": "stream",
     "text": [
      "b'enp4s0f2  Link encap:Ethernet  HWaddr 00:90:f5:ed:bc:25  \\n          inet addr:192.168.1.12  Bcast:192.168.1.255  Mask:255.255.255.0\\n          inet6 addr: fe80::8e01:a31a:1ab9:8ec3/64 Scope:Link\\n          UP BROADCAST RUNNING MULTICAST  MTU:1500  Metric:1\\n          RX packets:200797 errors:0 dropped:0 overruns:0 frame:0\\n          TX packets:115389 errors:0 dropped:0 overruns:0 carrier:0\\n          collisions:0 txqueuelen:1000 \\n          RX bytes:268757712 (268.7 MB)  TX bytes:9067951 (9.0 MB)\\n\\nlo        Link encap:Local Loopback  \\n          inet addr:127.0.0.1  Mask:255.0.0.0\\n          inet6 addr: ::1/128 Scope:Host\\n          UP LOOPBACK RUNNING  MTU:65536  Metric:1\\n          RX packets:6482 errors:0 dropped:0 overruns:0 frame:0\\n          TX packets:6482 errors:0 dropped:0 overruns:0 carrier:0\\n          collisions:0 txqueuelen:1 \\n          RX bytes:4011831 (4.0 MB)  TX bytes:4011831 (4.0 MB)\\n\\nwlp3s0    Link encap:Ethernet  HWaddr 6c:71:d9:b5:97:61  \\n          UP BROADCAST MULTICAST  MTU:1500  Metric:1\\n          RX packets:0 errors:0 dropped:0 overruns:0 frame:0\\n          TX packets:0 errors:0 dropped:0 overruns:0 carrier:0\\n          collisions:0 txqueuelen:1000 \\n          RX bytes:0 (0.0 B)  TX bytes:0 (0.0 B)\\n\\n'\n"
     ]
    }
   ],
   "source": []
  },
  {
   "cell_type": "code",
   "execution_count": 25,
   "metadata": {
    "collapsed": false
   },
   "outputs": [
    {
     "name": "stderr",
     "output_type": "stream",
     "text": [
      "usage: __main__.py [-h] --content CONTENT --styles STYLE [STYLE ...] --output\n",
      "                   OUTPUT [--iterations ITERATIONS]\n",
      "                   [--print-iterations PRINT_ITERATIONS]\n",
      "                   [--checkpoint-output OUTPUT]\n",
      "                   [--checkpoint-iterations CHECKPOINT_ITERATIONS]\n",
      "                   [--width WIDTH]\n",
      "                   [--style-scales STYLE_SCALE [STYLE_SCALE ...]]\n",
      "                   [--network VGG_PATH] [--content-weight CONTENT_WEIGHT]\n",
      "                   [--style-weight STYLE_WEIGHT]\n",
      "                   [--style-blend-weights STYLE_BLEND_WEIGHT [STYLE_BLEND_WEIGHT ...]]\n",
      "                   [--tv-weight TV_WEIGHT] [--learning-rate LEARNING_RATE]\n",
      "                   [--initial INITIAL]\n",
      "                   [--savestate-iterations savestate_iterations]\n",
      "                   [--savestate-path SAVESTATE_PATH]\n",
      "                   [--savestate-restore-file CHECKPOINT_RESTORE_FILE]\n",
      "__main__.py: error: the following arguments are required: --content, --styles, --output\n"
     ]
    },
    {
     "ename": "SystemExit",
     "evalue": "2",
     "output_type": "error",
     "traceback": [
      "An exception has occurred, use %tb to see the full traceback.\n",
      "\u001b[0;31mSystemExit\u001b[0m\u001b[0;31m:\u001b[0m 2\n"
     ]
    },
    {
     "name": "stderr",
     "output_type": "stream",
     "text": [
      "/usr/local/lib/python3.5/dist-packages/IPython/core/interactiveshell.py:2889: UserWarning: To exit: use 'exit', 'quit', or Ctrl-D.\n",
      "  warn(\"To exit: use 'exit', 'quit', or Ctrl-D.\", stacklevel=1)\n"
     ]
    }
   ],
   "source": [
    "if __name__ == '__main__':\n",
    "    ns.main()"
   ]
  },
  {
   "cell_type": "code",
   "execution_count": null,
   "metadata": {
    "collapsed": true
   },
   "outputs": [],
   "source": []
  }
 ],
 "metadata": {
  "celltoolbar": "Raw Cell Format",
  "kernelspec": {
   "display_name": "Python 3",
   "language": "python",
   "name": "python3"
  },
  "language_info": {
   "codemirror_mode": {
    "name": "ipython",
    "version": 3
   },
   "file_extension": ".py",
   "mimetype": "text/x-python",
   "name": "python",
   "nbconvert_exporter": "python",
   "pygments_lexer": "ipython3",
   "version": "3.5.2"
  }
 },
 "nbformat": 4,
 "nbformat_minor": 1
}
