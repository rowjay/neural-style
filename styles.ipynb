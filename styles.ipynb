{
 "cells": [
  {
   "cell_type": "code",
   "execution_count": 1,
   "metadata": {
    "collapsed": true
   },
   "outputs": [],
   "source": [
    "#the notebook"
   ]
  },
  {
   "cell_type": "code",
   "execution_count": 3,
   "metadata": {
    "collapsed": false
   },
   "outputs": [
    {
     "name": "stdout",
     "output_type": "stream",
     "text": [
      "\u001b[0m\u001b[01;35m10.jpg\u001b[0m\r\n",
      "\u001b[01;35mabstract-blue-poppies-in-sunrise-original-oil-painting-ana-maria-edulescu.jpg\u001b[0m\r\n",
      "\u001b[01;35mc2.jpg\u001b[0m\r\n",
      "\u001b[01;35mc5.jpg\u001b[0m\r\n",
      "\u001b[01;35mc6.jpg\u001b[0m\r\n",
      "\u001b[01;35mcontent1.jpg\u001b[0m\r\n",
      "\u001b[01;35min0.jpg\u001b[0m\r\n",
      "\u001b[01;35min2.jpg\u001b[0m\r\n",
      "\u001b[01;35mjc.jpeg\u001b[0m\r\n",
      "\u001b[01;35mjo0.jpg\u001b[0m\r\n",
      "\u001b[01;35mjo2.jpg\u001b[0m\r\n",
      "\u001b[01;35mjo.jpg\u001b[0m\r\n",
      "\u001b[01;35mjs.jpg\u001b[0m\r\n",
      "\u001b[01;35mo11.jpg\u001b[0m\r\n",
      "\u001b[01;35mout2.jpg\u001b[0m\r\n",
      "\u001b[01;35mout3.jpg\u001b[0m\r\n",
      "\u001b[01;35mout4.jpg\u001b[0m\r\n",
      "\u001b[01;35mout5.jpg\u001b[0m\r\n",
      "\u001b[01;35mout6.jpg\u001b[0m\r\n",
      "\u001b[01;35mout7.jpg\u001b[0m\r\n",
      "\u001b[01;35mout8.jpg\u001b[0m\r\n",
      "\u001b[01;35mout9.jpg\u001b[0m\r\n",
      "\u001b[01;35moutabstract.jpg\u001b[0m\r\n",
      "\u001b[01;35mout.jpg\u001b[0m\r\n",
      "\u001b[01;35moutvege2.jpg\u001b[0m\r\n",
      "\u001b[01;35moutvege.jpg\u001b[0m\r\n",
      "\u001b[01;35ms5.jpg\u001b[0m\r\n",
      "\u001b[01;35ms7.jpeg\u001b[0m\r\n",
      "\u001b[01;35mstyle1.jpg\u001b[0m\r\n"
     ]
    }
   ],
   "source": [
    "ls | grep .jp*"
   ]
  },
  {
   "cell_type": "code",
   "execution_count": null,
   "metadata": {
    "collapsed": true
   },
   "outputs": [],
   "source": [
    "cnt = content1.jpg\n",
    "stl = s5.jpg\n",
    "out = output-file-name.jpg\n",
    "itr = 700\n",
    "wgt = "
   ]
  },
  {
   "cell_type": "code",
   "execution_count": null,
   "metadata": {
    "collapsed": true
   },
   "outputs": [],
   "source": [
    "#joins\n",
    "neural_style.py --content jc.jpeg --styles style1.jpg --output jo0.jpg --iterations 300 --style-weight 70 --content-weight 50 --learning-rate 30"
   ]
  },
  {
   "cell_type": "code",
   "execution_count": null,
   "metadata": {
    "collapsed": true
   },
   "outputs": [],
   "source": []
  }
 ],
 "metadata": {
  "celltoolbar": "Raw Cell Format",
  "kernelspec": {
   "display_name": "Python 3",
   "language": "python",
   "name": "python3"
  },
  "language_info": {
   "codemirror_mode": {
    "name": "ipython",
    "version": 3
   },
   "file_extension": ".py",
   "mimetype": "text/x-python",
   "name": "python",
   "nbconvert_exporter": "python",
   "pygments_lexer": "ipython3",
   "version": "3.5.2"
  }
 },
 "nbformat": 4,
 "nbformat_minor": 1
}
